{
 "cells": [
  {
   "cell_type": "code",
   "execution_count": 21,
   "metadata": {},
   "outputs": [],
   "source": [
    "import pandas as pd"
   ]
  },
  {
   "cell_type": "code",
   "execution_count": 22,
   "metadata": {},
   "outputs": [],
   "source": [
    "# JSON\n",
    "# https://github.com/bttmly/nba/blob/master/data/players.json\n",
    "\n",
    "jsonfile = pd.read_json('players.json')\n",
    "\n",
    "# CSV\n",
    "# https://www.kaggle.com/datasets/vsharma19/nbacsv/data\n",
    "\n",
    "csvfile = pd.read_csv('nba.csv')\n"
   ]
  },
  {
   "cell_type": "code",
   "execution_count": 23,
   "metadata": {},
   "outputs": [],
   "source": [
    "# Pick input file using a path\n",
    "\n",
    "inputfile = input('Input your file path:')\n",
    "\n",
    "# Get the extension of the file\n",
    "\n",
    "extension = inputfile.split('.')[-1]\n",
    "extensions = ['csv', 'json']\n",
    "\n",
    "# Catch errors for invalid extensions\n",
    "\n",
    "try:\n",
    "    extensions.index(extension)\n",
    "except:\n",
    "    print('Error: Filetype not supported')"
   ]
  },
  {
   "cell_type": "code",
   "execution_count": 24,
   "metadata": {},
   "outputs": [
    {
     "name": "stdout",
     "output_type": "stream",
     "text": [
      "Data Summary:\n",
      "Rows: 458, Columns: 12\n"
     ]
    }
   ],
   "source": [
    "# Create df, catching errors for file not found\n",
    "\n",
    "if extension == 'csv':\n",
    "    try: \n",
    "        df = pd.read_csv(inputfile)\n",
    "    except:\n",
    "        print('Error: File could not be found')\n",
    "elif extension == 'json':\n",
    "    try:\n",
    "        df = pd.read_json(inputfile)\n",
    "    except:\n",
    "        print('Error: File could not be found')\n",
    "\n",
    "# Print ingestion data\n",
    "\n",
    "print('Data Summary:')\n",
    "print('Rows: ' + str(df.shape[0]) + ', Columns: '+ str(df.shape[1]))\n",
    "\n",
    "# Add column\n",
    "\n",
    "df.insert(1, \"filetype\", extension, allow_duplicates=True)\n",
    "\n",
    "# Get output filetype\n",
    "\n",
    "filetype = input('Output Filetype: CSV, JSON, or SQL')\n",
    "\n",
    "filetypes = ['CSV', 'JSON', 'SQL']\n",
    "\n",
    "# Catch error for improper filetype\n",
    "\n",
    "try:\n",
    "    filetypes.index(filetype)\n",
    "except:\n",
    "    print('Error: Filetype not supported')\n",
    "\n",
    "# Convert to filetype, and also stores \n",
    "\n",
    "if filetype == 'CSV':\n",
    "    df.to_csv(inputfile.split('.')[0] + '.csv')\n",
    "elif filetype == 'JSON':\n",
    "    df.to_json(inputfile.split('.')[0] + '.json')\n",
    "elif filetype == 'SQL':\n",
    "    print('Alex do this please')\n",
    "    # Alex do this please"
   ]
  },
  {
   "cell_type": "code",
   "execution_count": null,
   "metadata": {},
   "outputs": [],
   "source": []
  }
 ],
 "metadata": {
  "kernelspec": {
   "display_name": "DS2002",
   "language": "python",
   "name": "python3"
  },
  "language_info": {
   "codemirror_mode": {
    "name": "ipython",
    "version": 3
   },
   "file_extension": ".py",
   "mimetype": "text/x-python",
   "name": "python",
   "nbconvert_exporter": "python",
   "pygments_lexer": "ipython3",
   "version": "3.12.5"
  }
 },
 "nbformat": 4,
 "nbformat_minor": 2
}
