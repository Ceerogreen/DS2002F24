{
 "cells": [
  {
   "cell_type": "code",
   "execution_count": 7,
   "metadata": {},
   "outputs": [],
   "source": [
    "# Dependencies\n",
    "\n",
    "import pandas as pd"
   ]
  },
  {
   "cell_type": "markdown",
   "metadata": {},
   "source": [
    "# Data Work"
   ]
  },
  {
   "cell_type": "code",
   "execution_count": 8,
   "metadata": {},
   "outputs": [
    {
     "data": {
      "text/html": [
       "<div>\n",
       "<style scoped>\n",
       "    .dataframe tbody tr th:only-of-type {\n",
       "        vertical-align: middle;\n",
       "    }\n",
       "\n",
       "    .dataframe tbody tr th {\n",
       "        vertical-align: top;\n",
       "    }\n",
       "\n",
       "    .dataframe thead th {\n",
       "        text-align: right;\n",
       "    }\n",
       "</style>\n",
       "<table border=\"1\" class=\"dataframe\">\n",
       "  <thead>\n",
       "    <tr style=\"text-align: right;\">\n",
       "      <th></th>\n",
       "      <th>Rk</th>\n",
       "      <th>Player</th>\n",
       "      <th>Class</th>\n",
       "      <th>Pos</th>\n",
       "      <th>School</th>\n",
       "      <th>G</th>\n",
       "      <th>MP</th>\n",
       "      <th>TRB</th>\n",
       "      <th>AST</th>\n",
       "      <th>STL</th>\n",
       "      <th>...</th>\n",
       "      <th>TOV</th>\n",
       "      <th>PF</th>\n",
       "      <th>PTS</th>\n",
       "      <th>FG%</th>\n",
       "      <th>2P%</th>\n",
       "      <th>3P%</th>\n",
       "      <th>FT%</th>\n",
       "      <th>PER</th>\n",
       "      <th>WS</th>\n",
       "      <th>BPM</th>\n",
       "    </tr>\n",
       "  </thead>\n",
       "  <tbody>\n",
       "    <tr>\n",
       "      <th>0</th>\n",
       "      <td>1</td>\n",
       "      <td>Amaree Abram</td>\n",
       "      <td>SO</td>\n",
       "      <td>G</td>\n",
       "      <td>Georgia Tech</td>\n",
       "      <td>10</td>\n",
       "      <td>108</td>\n",
       "      <td>17</td>\n",
       "      <td>11</td>\n",
       "      <td>1</td>\n",
       "      <td>...</td>\n",
       "      <td>9</td>\n",
       "      <td>10</td>\n",
       "      <td>34</td>\n",
       "      <td>0.262</td>\n",
       "      <td>0.318</td>\n",
       "      <td>0.200</td>\n",
       "      <td>0.615</td>\n",
       "      <td>4.1</td>\n",
       "      <td>-0.1</td>\n",
       "      <td>-6.4</td>\n",
       "    </tr>\n",
       "    <tr>\n",
       "      <th>1</th>\n",
       "      <td>2</td>\n",
       "      <td>Sola Adebisi</td>\n",
       "      <td>FR</td>\n",
       "      <td>F</td>\n",
       "      <td>Florida State</td>\n",
       "      <td>7</td>\n",
       "      <td>9</td>\n",
       "      <td>1</td>\n",
       "      <td>1</td>\n",
       "      <td>0</td>\n",
       "      <td>...</td>\n",
       "      <td>1</td>\n",
       "      <td>1</td>\n",
       "      <td>2</td>\n",
       "      <td>0.500</td>\n",
       "      <td>0.500</td>\n",
       "      <td>NaN</td>\n",
       "      <td>NaN</td>\n",
       "      <td>3.5</td>\n",
       "      <td>0.0</td>\n",
       "      <td>-6.7</td>\n",
       "    </tr>\n",
       "    <tr>\n",
       "      <th>2</th>\n",
       "      <td>3</td>\n",
       "      <td>Prince Aligbe</td>\n",
       "      <td>SO</td>\n",
       "      <td>F</td>\n",
       "      <td>Boston College</td>\n",
       "      <td>35</td>\n",
       "      <td>651</td>\n",
       "      <td>119</td>\n",
       "      <td>21</td>\n",
       "      <td>15</td>\n",
       "      <td>...</td>\n",
       "      <td>30</td>\n",
       "      <td>51</td>\n",
       "      <td>164</td>\n",
       "      <td>0.435</td>\n",
       "      <td>0.522</td>\n",
       "      <td>0.147</td>\n",
       "      <td>0.620</td>\n",
       "      <td>9.4</td>\n",
       "      <td>0.9</td>\n",
       "      <td>-1.3</td>\n",
       "    </tr>\n",
       "    <tr>\n",
       "      <th>3</th>\n",
       "      <td>4</td>\n",
       "      <td>Abe Atiyeh</td>\n",
       "      <td>SR</td>\n",
       "      <td>G</td>\n",
       "      <td>Boston College</td>\n",
       "      <td>4</td>\n",
       "      <td>6</td>\n",
       "      <td>0</td>\n",
       "      <td>0</td>\n",
       "      <td>0</td>\n",
       "      <td>...</td>\n",
       "      <td>1</td>\n",
       "      <td>0</td>\n",
       "      <td>3</td>\n",
       "      <td>0.333</td>\n",
       "      <td>0.000</td>\n",
       "      <td>1.000</td>\n",
       "      <td>NaN</td>\n",
       "      <td>1.1</td>\n",
       "      <td>0.0</td>\n",
       "      <td>-8.2</td>\n",
       "    </tr>\n",
       "    <tr>\n",
       "      <th>4</th>\n",
       "      <td>5</td>\n",
       "      <td>Zack Austin</td>\n",
       "      <td>JR</td>\n",
       "      <td>F</td>\n",
       "      <td>Pittsburgh</td>\n",
       "      <td>33</td>\n",
       "      <td>746</td>\n",
       "      <td>137</td>\n",
       "      <td>29</td>\n",
       "      <td>32</td>\n",
       "      <td>...</td>\n",
       "      <td>13</td>\n",
       "      <td>35</td>\n",
       "      <td>216</td>\n",
       "      <td>0.417</td>\n",
       "      <td>0.563</td>\n",
       "      <td>0.295</td>\n",
       "      <td>0.737</td>\n",
       "      <td>18.0</td>\n",
       "      <td>2.9</td>\n",
       "      <td>7.9</td>\n",
       "    </tr>\n",
       "  </tbody>\n",
       "</table>\n",
       "<p>5 rows × 21 columns</p>\n",
       "</div>"
      ],
      "text/plain": [
       "   Rk         Player Class Pos          School   G   MP  TRB  AST  STL  ...  \\\n",
       "0   1   Amaree Abram    SO   G    Georgia Tech  10  108   17   11    1  ...   \n",
       "1   2   Sola Adebisi    FR   F   Florida State   7    9    1    1    0  ...   \n",
       "2   3  Prince Aligbe    SO   F  Boston College  35  651  119   21   15  ...   \n",
       "3   4     Abe Atiyeh    SR   G  Boston College   4    6    0    0    0  ...   \n",
       "4   5    Zack Austin    JR   F      Pittsburgh  33  746  137   29   32  ...   \n",
       "\n",
       "   TOV  PF  PTS    FG%    2P%    3P%    FT%   PER   WS  BPM  \n",
       "0    9  10   34  0.262  0.318  0.200  0.615   4.1 -0.1 -6.4  \n",
       "1    1   1    2  0.500  0.500    NaN    NaN   3.5  0.0 -6.7  \n",
       "2   30  51  164  0.435  0.522  0.147  0.620   9.4  0.9 -1.3  \n",
       "3    1   0    3  0.333  0.000  1.000    NaN   1.1  0.0 -8.2  \n",
       "4   13  35  216  0.417  0.563  0.295  0.737  18.0  2.9  7.9  \n",
       "\n",
       "[5 rows x 21 columns]"
      ]
     },
     "execution_count": 8,
     "metadata": {},
     "output_type": "execute_result"
    }
   ],
   "source": [
    "# 1\n",
    "df = pd.read_csv('acc_players-2324F.csv', header=1)\n",
    "df.head()"
   ]
  },
  {
   "cell_type": "code",
   "execution_count": 29,
   "metadata": {},
   "outputs": [
    {
     "name": "stdout",
     "output_type": "stream",
     "text": [
      "Total Points: 38411\n",
      "Minutes Leader: Casey Morsell\n",
      "Top 5 Rebounders:\n",
      "Armando Bacot, Ian Schieffelin, Harrison Ingram, Mohamed Diarra, Norchad Omier\n"
     ]
    }
   ],
   "source": [
    "# 2\n",
    "print('Total Points: ' + str(df['PTS'].sum()))\n",
    "print('Minutes Leader: ' + df['Player'][df['MP'].idxmax()])\n",
    "print('Top 5 Rebounders:')\n",
    "print(*df.nlargest(5, 'TRB')['Player'].tolist(), sep=', ')"
   ]
  },
  {
   "cell_type": "code",
   "execution_count": 32,
   "metadata": {},
   "outputs": [
    {
     "name": "stdout",
     "output_type": "stream",
     "text": [
      "Assists Leader (Minimum 500 MP): Reece Beekman\n",
      "Top 3 Assists Leader (Minimum 500 MP): \n",
      "Reece Beekman, Jaeden Zackery, Elliot Cadeau\n",
      "Top 3 Shot Blockers (Minimum 500 MP): \n",
      "Ryan Dunn, Quinten Post, Armando Bacot\n"
     ]
    }
   ],
   "source": [
    "# 3\n",
    "\n",
    "t500_min = df[df['MP'] > 500]\n",
    "print('Assists Leader (Minimum 500 MP): ' + t500_min['Player'][t500_min['AST'].idxmax()])\n",
    "print('Top 3 Assists Leader (Minimum 500 MP): ')\n",
    "print(*t500_min.nlargest(3, 'AST')['Player'].tolist(), sep=', ')\n",
    "print('Top 3 Shot Blockers (Minimum 500 MP): ')\n",
    "print(*t500_min.nlargest(3, 'BLK')['Player'].tolist(), sep=', ')"
   ]
  },
  {
   "cell_type": "code",
   "execution_count": 37,
   "metadata": {},
   "outputs": [
    {
     "name": "stdout",
     "output_type": "stream",
     "text": [
      "Total Points by School: \n"
     ]
    },
    {
     "data": {
      "text/plain": [
       "School\n",
       "Boston College    2667\n",
       "Clemson           2785\n",
       "Duke              2830\n",
       "Florida State     2526\n",
       "Georgia Tech      2272\n",
       "Louisville        2304\n",
       "Miami (FL)        2424\n",
       "NC State          3101\n",
       "North Carolina    3032\n",
       "Notre Dame        2113\n",
       "Pittsburgh        2495\n",
       "Syracuse          2442\n",
       "Virginia          2140\n",
       "Virginia Tech     2547\n",
       "Wake Forest       2733\n",
       "Name: PTS, dtype: int64"
      ]
     },
     "metadata": {},
     "output_type": "display_data"
    },
    {
     "name": "stdout",
     "output_type": "stream",
     "text": [
      "Total Assists by School: \n"
     ]
    },
    {
     "data": {
      "text/plain": [
       "School\n",
       "Boston College    509\n",
       "Clemson           533\n",
       "Duke              551\n",
       "Florida State     406\n",
       "Georgia Tech      425\n",
       "Louisville        356\n",
       "Miami (FL)        454\n",
       "NC State          536\n",
       "North Carolina    536\n",
       "Notre Dame        335\n",
       "Pittsburgh        452\n",
       "Syracuse          442\n",
       "Virginia          509\n",
       "Virginia Tech     514\n",
       "Wake Forest       429\n",
       "Name: AST, dtype: int64"
      ]
     },
     "metadata": {},
     "output_type": "display_data"
    },
    {
     "name": "stdout",
     "output_type": "stream",
     "text": [
      "Top 3 Schools by Total Points: \n",
      "NC State, North Carolina, Duke\n"
     ]
    }
   ],
   "source": [
    "# 4\n",
    "\n",
    "df.columns\n",
    "team_stats = df[['School','TRB','AST','STL','BLK','TOV','PF','PTS']].groupby('School').sum()\n",
    "print('Total Points by School: ')\n",
    "display(team_stats['PTS'])\n",
    "print('Total Assists by School: ')\n",
    "display(team_stats['AST'])\n",
    "print('Top 3 Schools by Total Points: ')\n",
    "print(*team_stats.nlargest(3, 'PTS').index.tolist(), sep=', ')"
   ]
  },
  {
   "cell_type": "markdown",
   "metadata": {},
   "source": [
    "# Reflection:\n",
    "\n"
   ]
  },
  {
   "cell_type": "markdown",
   "metadata": {},
   "source": [
    "    This is at least my third time doing 'introductory' pandas work in a data science class here at UVA, so its hard to really express much that I've learned, especially in regards to data manipulation, reading, filtering, etc. However, this has reinforced a lot of the learning which I've already done. Catching up on some of the best practices, like using nlargest instead of a .sortby() followed by a .head(), will make my code much easier to read for my colleagues. While this is maybe a simple and small element, on the whole these, along with my carefully organized cell outputs using print() statements and display() statements, should make my code much more parseable in the future, which is a skill that I always value developing.\n",
    "\n",
    "    The most challenging aspect of this assignment for me was probably in deciding how I wanted to output everything. Figuring out the best ways to display a printed list or dataframe wasn't wholly challenging in the grand scheme of data science work I've done, but it was the one thing that made me stop and consider how I can best go about doing this. I am much happier now that I have changed particularly my print statements for my lists. It took some time to find a way to print them in a way that is easily readable, but some quick googling made me realize I could do much better, and how.\n",
    "\n",
    "    One thing that I think is really interesting about this analysis is that we are outsiders analyzing this data. Because basketball is so broad, these statistics are available to everyone; this is also the case for a lot of unclassified government data that is subject to the Freedom of Information Act. However, I imagine that in my future, much of the data I work with would be proprietary or otherwise subject to limited access - most business data is proprietary, some government data is confidential, a lot of healthcare data is protected by HIPAA, etc. This all makes me wonder what precautions should be taken, even when doing very rudimentary data analysis like in this homework. With that said, this is what I believe constitutes EDA, which is incredibly important in determining the scope of what information you can pull out of a data set. Often you find yourself with a data set that was not gathered by you personally, so doing this EDA is good practice for understand how to parse the data to look for interesting trends and pieces of information, and is applicable to just about any dataset in any industry."
   ]
  }
 ],
 "metadata": {
  "kernelspec": {
   "display_name": "DS2002",
   "language": "python",
   "name": "python3"
  },
  "language_info": {
   "codemirror_mode": {
    "name": "ipython",
    "version": 3
   },
   "file_extension": ".py",
   "mimetype": "text/x-python",
   "name": "python",
   "nbconvert_exporter": "python",
   "pygments_lexer": "ipython3",
   "version": "3.12.5"
  }
 },
 "nbformat": 4,
 "nbformat_minor": 2
}
