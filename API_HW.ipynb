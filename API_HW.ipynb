{
 "cells": [
  {
   "cell_type": "code",
   "execution_count": 1,
   "metadata": {},
   "outputs": [],
   "source": [
    "# import dependencies\n",
    "\n",
    "import json\n",
    "import pandas as pd\n",
    "import json\n",
    "import requests"
   ]
  },
  {
   "cell_type": "code",
   "execution_count": 2,
   "metadata": {},
   "outputs": [],
   "source": [
    "# get stock\n",
    "\n",
    "stock = input('Input Stock Ticker: ')"
   ]
  },
  {
   "cell_type": "code",
   "execution_count": 3,
   "metadata": {},
   "outputs": [],
   "source": [
    "# Request from API\n",
    "apikey=\"###########################\"\n",
    "\n",
    "url = \"https://yfapi.net/v6/finance/quote\"\n",
    "\n",
    "querystring = {\"symbols\":stock}\n",
    "\n",
    "querystring2 = {'symbol':stock, 'modules':'financialData'}\n",
    "\n",
    "headers = {\n",
    "    'x-api-key': apikey\n",
    "    }\n",
    "\n",
    "response1 = requests.request(\"GET\", url, headers=headers, params=querystring)\n",
    "\n",
    "stock_json1 = response1.json()\n",
    "\n",
    "# Note: Response 2 is what I had\n",
    "\n",
    "url2 = \"https://yfapi.net/v11/finance/quoteSummary/\"  + str(stock)\n",
    "\n",
    "response2 = requests.request(\"GET\", url2, headers=headers, params=querystring2)\n",
    "\n",
    "stock_json2 = response2.json()\n",
    "\n",
    "response3 = requests.request('GET', 'https://yfapi.net/v1/finance/trending/US', headers=headers)\n",
    "\n",
    "stock_json3 = response3.json()"
   ]
  },
  {
   "cell_type": "code",
   "execution_count": 4,
   "metadata": {},
   "outputs": [
    {
     "name": "stdout",
     "output_type": "stream",
     "text": [
      "Ticker Name: AAPL Full Name: Apple Inc. Current Market Price: 227.725 Target Mean Price: 240.58 52-Week High: 237.23 52-Week Low: 164.08\n",
      "Five Recommended Stocks: \n",
      "^N225\n",
      "NQ=F\n",
      "9866.HK\n",
      "9988.HK\n",
      "^HSI\n"
     ]
    }
   ],
   "source": [
    "# Print to User\n",
    "\n",
    "symbol = stock_json1['quoteResponse']['result'][0]['symbol']\n",
    "longName = stock_json1['quoteResponse']['result'][0]['longName']\n",
    "regularMarketPrice = stock_json1['quoteResponse']['result'][0]['regularMarketPrice']\n",
    "fiftyTwoWeekHigh = stock_json1['quoteResponse']['result'][0]['fiftyTwoWeekHigh']\n",
    "fiftyTwoWeekLow = stock_json1['quoteResponse']['result'][0]['fiftyTwoWeekLow']\n",
    "targetPrice = stock_json2['quoteSummary']['result'][0]['financialData']['targetMeanPrice']['raw']\n",
    "print('Ticker Name: ' + str(symbol) + ' Full Name: ' + str(longName) + ' Current Market Price: ' + str(regularMarketPrice) + ' Target Mean Price: ' + str(targetPrice) + ' 52-Week High: ' + str(fiftyTwoWeekHigh) + ' 52-Week Low: ' + str(fiftyTwoWeekLow))\n",
    "print('Five Recommended Stocks: ')\n",
    "for i in range(0,5):\n",
    "    print(stock_json3['finance']['result'][0]['quotes'][i]['symbol'])"
   ]
  },
  {
   "cell_type": "code",
   "execution_count": 5,
   "metadata": {},
   "outputs": [],
   "source": [
    "# Move to dataframe and csv\n",
    "df = pd.DataFrame(stock_json1['quoteResponse']['result'])\n",
    "df.to_csv('stock_csv')\n",
    "df2 = pd.DataFrame((stock_json2)['quoteSummary']['result'][0]['financialData'])\n",
    "df2.to_csv('stock2_csv')\n",
    "df3 = pd.DataFrame((stock_json3)['finance']['result'][0]['quotes'])\n",
    "df3.to_csv('stock3_csv')"
   ]
  }
 ],
 "metadata": {
  "kernelspec": {
   "display_name": "DS2002",
   "language": "python",
   "name": "python3"
  },
  "language_info": {
   "codemirror_mode": {
    "name": "ipython",
    "version": 3
   },
   "file_extension": ".py",
   "mimetype": "text/x-python",
   "name": "python",
   "nbconvert_exporter": "python",
   "pygments_lexer": "ipython3",
   "version": "3.12.5"
  }
 },
 "nbformat": 4,
 "nbformat_minor": 2
}
